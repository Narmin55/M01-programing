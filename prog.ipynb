{
 "cells": [
  {
   "cell_type": "code",
   "execution_count": 2,
   "metadata": {},
   "outputs": [
    {
     "name": "stdout",
     "output_type": "stream",
     "text": [
      "Addition: 8\n",
      "Subtraction: 2\n",
      "Multiplication: 15\n",
      "Division: 1.6666666666666667\n",
      "Floor Division: 1\n",
      "Exponentiation: 125\n",
      "Modulus: 2\n"
     ]
    }
   ],
   "source": [
    "# Example of integer operations\n",
    "\n",
    "# Addition\n",
    "a = 5\n",
    "b = 3\n",
    "print(\"Addition:\", a + b)\n",
    "\n",
    "# Subtraction\n",
    "print(\"Subtraction:\", a - b)\n",
    "\n",
    "# Multiplication\n",
    "print(\"Multiplication:\", a * b)\n",
    "\n",
    "# Division (note: this returns a float)\n",
    "print(\"Division:\", a / b)\n",
    "\n",
    "# Floor Division (discards the fractional part)\n",
    "print(\"Floor Division:\", a // b)\n",
    "\n",
    "# Exponentiation\n",
    "print(\"Exponentiation:\", a ** b)\n",
    "\n",
    "# Modulus (remainder of the division)\n",
    "print(\"Modulus:\", a % b)\n"
   ]
  },
  {
   "cell_type": "code",
   "execution_count": 3,
   "metadata": {},
   "outputs": [
    {
     "name": "stdout",
     "output_type": "stream",
     "text": [
      "Addition: 6.0\n",
      "Subtraction: -1.0\n",
      "Multiplication: 8.75\n",
      "Division: 0.7142857142857143\n"
     ]
    }
   ],
   "source": [
    "# Example of float operations\n",
    "\n",
    "# Defining floats\n",
    "x = 2.5\n",
    "y = 3.5\n",
    "\n",
    "# Addition\n",
    "print(\"Addition:\", x + y)\n",
    "\n",
    "# Subtraction\n",
    "print(\"Subtraction:\", x - y)\n",
    "\n",
    "# Multiplication\n",
    "print(\"Multiplication:\", x * y)\n",
    "\n",
    "# Division\n",
    "print(\"Division:\", x / y)\n"
   ]
  },
  {
   "cell_type": "code",
   "execution_count": 4,
   "metadata": {},
   "outputs": [
    {
     "name": "stdout",
     "output_type": "stream",
     "text": [
      "Addition: (4+6j)\n",
      "Subtraction: (-2-2j)\n",
      "Multiplication: (-5+10j)\n",
      "Division: (0.44+0.08j)\n",
      "Magnitude: 2.23606797749979\n"
     ]
    }
   ],
   "source": [
    "# Example of complex number operations\n",
    "\n",
    "# Defining complex numbers\n",
    "c1 = 1 + 2j\n",
    "c2 = 3 + 4j\n",
    "\n",
    "# Addition\n",
    "print(\"Addition:\", c1 + c2)\n",
    "\n",
    "# Subtraction\n",
    "print(\"Subtraction:\", c1 - c2)\n",
    "\n",
    "# Multiplication\n",
    "print(\"Multiplication:\", c1 * c2)\n",
    "\n",
    "# Division\n",
    "print(\"Division:\", c1 / c2)\n",
    "\n",
    "# Absolute value (magnitude)\n",
    "print(\"Magnitude:\", abs(c1))\n"
   ]
  },
  {
   "cell_type": "code",
   "execution_count": 1,
   "metadata": {},
   "outputs": [
    {
     "name": "stdout",
     "output_type": "stream",
     "text": [
      "Float to Int: 3\n",
      "Int to Float: 4.0\n",
      "Create Complex: (4+3.99j)\n"
     ]
    }
   ],
   "source": [
    "# Type conversion examples\n",
    "\n",
    "# Converting float to int\n",
    "f = 3.99\n",
    "print(\"Float to Int:\", int(f))\n",
    "\n",
    "# Converting int to float\n",
    "i = 4\n",
    "print(\"Int to Float:\", float(i))\n",
    "\n",
    "# Creating complex number\n",
    "print(\"Create Complex:\", complex(i, f))\n"
   ]
  },
  {
   "cell_type": "code",
   "execution_count": null,
   "metadata": {},
   "outputs": [],
   "source": []
  }
 ],
 "metadata": {
  "kernelspec": {
   "display_name": "Python 3",
   "language": "python",
   "name": "python3"
  },
  "language_info": {
   "codemirror_mode": {
    "name": "ipython",
    "version": 3
   },
   "file_extension": ".py",
   "mimetype": "text/x-python",
   "name": "python",
   "nbconvert_exporter": "python",
   "pygments_lexer": "ipython3",
   "version": "3.10.9"
  }
 },
 "nbformat": 4,
 "nbformat_minor": 2
}
